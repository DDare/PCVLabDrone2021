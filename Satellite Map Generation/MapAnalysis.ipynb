{
 "cells": [
  {
   "cell_type": "code",
   "execution_count": 8,
   "id": "proved-pontiac",
   "metadata": {},
   "outputs": [],
   "source": [
    "import PIL.Image as Image\n",
    "import os\n",
    "import pyproj\n",
    "import math\n",
    "import cv2\n",
    "import numpy as np"
   ]
  },
  {
   "cell_type": "markdown",
   "id": "34548570",
   "metadata": {},
   "source": [
    "# Compose satellite images to check overlapping"
   ]
  },
  {
   "cell_type": "code",
   "execution_count": 9,
   "id": "hidden-marks",
   "metadata": {},
   "outputs": [],
   "source": [
    "def image_compose(IMAGES_PATH,IMAGES_FORMAT,IMAGE_SIZE,IMAGE_ROW,IMAGE_COLUMN,IMAGE_SAVE_PATH):\n",
    "    image_names = [name for name in os.listdir(IMAGES_PATH) for item in IMAGES_FORMAT if\n",
    "                   os.path.splitext(name)[1] == item]\n",
    "\n",
    "    if len(image_names) != IMAGE_ROW * IMAGE_COLUMN:\n",
    "        raise ValueError(\"Total image amount should be {}\".format(IMAGE_ROW*IMAGE_COLUMN))\n",
    "    \n",
    "    to_image = Image.new('RGB', (IMAGE_COLUMN * IMAGE_SIZE[0], IMAGE_ROW * IMAGE_SIZE[1])) # create a new image\n",
    "\n",
    "    for y in range(1, IMAGE_ROW + 1):\n",
    "        for x in range(1, IMAGE_COLUMN + 1):\n",
    "            from_image = Image.open(IMAGES_PATH + image_names[IMAGE_COLUMN * (y - 1) + x - 1]).resize(\n",
    "                IMAGE_SIZE, Image.Resampling.LANCZOS)\n",
    "            to_image.paste(from_image, ((x - 1) * IMAGE_SIZE[0], (y - 1) * IMAGE_SIZE[1]))\n",
    "    return to_image.save(IMAGE_SAVE_PATH)"
   ]
  },
  {
   "cell_type": "code",
   "execution_count": 10,
   "id": "centered-array",
   "metadata": {},
   "outputs": [],
   "source": [
    "maps_path = './datasets/satellite_imgs/'\n",
    "save_path = './datasets/sat.png'\n",
    "\n",
    "IMAGES_FORMAT = ['.png']  # image format\n",
    "IMAGE_SIZE = (1280, 720)  # single iamge size\n",
    "IMAGE_ROW = 3\n",
    "IMAGE_COLUMN = 3\n",
    "\n",
    "IMAGES_PATH = maps_path\n",
    "IMAGE_SAVE_PATH = save_path   \n",
    "image_compose(IMAGES_PATH,IMAGES_FORMAT,IMAGE_SIZE,IMAGE_ROW,IMAGE_COLUMN,IMAGE_SAVE_PATH)"
   ]
  },
  {
   "cell_type": "markdown",
   "id": "8c823ad7",
   "metadata": {},
   "source": [
    "# compute GSD"
   ]
  },
  {
   "cell_type": "code",
   "execution_count": 11,
   "id": "374b5816",
   "metadata": {},
   "outputs": [],
   "source": [
    "rows, cols = 3, 3\n",
    "\n",
    "# load coordinates\n",
    "with open('./datasets/coordinates.txt') as f:\n",
    "    lines = f.readlines()\n",
    "coordinates = np.zeros([rows,cols,2])\n",
    "\n",
    "for line in lines:\n",
    "    x, y = int(line[0]), int(line[2])\n",
    "    coordinates[x,y,0] = float((line.split('\\t')[1]).split('=')[1])\n",
    "    coordinates[x,y,1] = float((line.split('\\t')[2]).split('=')[1])"
   ]
  },
  {
   "cell_type": "code",
   "execution_count": 12,
   "id": "f06fd4b7",
   "metadata": {},
   "outputs": [],
   "source": [
    "def geo_proj_transform(data, geo2proj=True):\n",
    "    # convert group of points\n",
    "    geo_epsg, proj_epsg = \"epsg:4326\", \"epsg:3857\"\n",
    "    if geo2proj:\n",
    "        transformer = pyproj.Transformer.from_crs(geo_epsg, proj_epsg)\n",
    "    else:\n",
    "        transformer = pyproj.Transformer.from_crs(proj_epsg, geo_epsg)\n",
    "    \n",
    "    H, W, _ = data.shape\n",
    "    points = np.zeros([H*W,2])\n",
    "    for i, point in enumerate(transformer.itransform(data.reshape(-1,2))):\n",
    "        points[i] = np.array(point)\n",
    "    return points.reshape(H,W,-1)"
   ]
  },
  {
   "cell_type": "code",
   "execution_count": 13,
   "id": "09089456",
   "metadata": {},
   "outputs": [],
   "source": [
    "projs = geo_proj_transform(coordinates)"
   ]
  },
  {
   "cell_type": "code",
   "execution_count": 14,
   "id": "1a570def",
   "metadata": {},
   "outputs": [
    {
     "data": {
      "text/plain": [
       "[0.14929908923440963, -0.14923802730692032]"
      ]
     },
     "execution_count": 14,
     "metadata": {},
     "output_type": "execute_result"
    }
   ],
   "source": [
    "H, W, _ = projs.shape\n",
    "\n",
    "# meter per pixel in East, South direction\n",
    "GSD = [(projs[-1,-1,0]-projs[0,0,0])/((W-1)*IMAGE_SIZE[0]), (projs[-1,-1,1]-projs[0,0,1])/((H-1)*IMAGE_SIZE[1])] \n",
    "GSD"
   ]
  },
  {
   "cell_type": "markdown",
   "id": "97f6672a",
   "metadata": {},
   "source": [
    "# Calculate target area north, south, east, west and center GPS coordinates"
   ]
  },
  {
   "cell_type": "code",
   "execution_count": 15,
   "id": "6ef0a483",
   "metadata": {},
   "outputs": [],
   "source": [
    "def proj2geo_transform(data, geo2proj=False):\n",
    "    # convert group of points\n",
    "    geo_epsg, proj_epsg = \"epsg:4326\", \"epsg:3857\"\n",
    "    if geo2proj:\n",
    "        transformer = pyproj.Transformer.from_crs(geo_epsg, proj_epsg)\n",
    "    else:\n",
    "        transformer = pyproj.Transformer.from_crs(proj_epsg, geo_epsg)\n",
    "\n",
    "    points = np.zeros([data.shape[0],2])\n",
    "    for i, point in enumerate(transformer.itransform(data)):\n",
    "        points[i] = np.array(point)\n",
    "    return points"
   ]
  },
  {
   "cell_type": "code",
   "execution_count": 29,
   "id": "938307a1",
   "metadata": {},
   "outputs": [
    {
     "name": "stdout",
     "output_type": "stream",
     "text": [
      "Target area north GPS: 40.00050846915017\n",
      "Target area south GPS: 39.99829017146142\n",
      "Target area east GPS: -83.0139618955573\n",
      "Target area west GPS: -83.01911201346185\n",
      "Target area center GPS: [ 39.99939933 -83.01653695]\n",
      "Target area has width of 322.35413898294786 meters\n",
      "Target area has height of 573.308502660133 meters\n"
     ]
    }
   ],
   "source": [
    "corners_proj = np.zeros([3,2])\n",
    "corners_proj[0] = np.array([projs[0,0,0]-IMAGE_SIZE[0]/2*GSD[0], projs[0,0,1]-IMAGE_SIZE[1]/2*GSD[1]]) # top_left\n",
    "corners_proj[1] = np.array([projs[-1,-1,0]+IMAGE_SIZE[0]/2*GSD[0], projs[-1,-1,1]+IMAGE_SIZE[1]/2*GSD[1]]) # bottom_right\n",
    "corners_proj[2] = np.array([corners_proj[0,0]+IMAGE_SIZE[0]*cols/2*GSD[0], corners_proj[0,1]+IMAGE_SIZE[1]*rows/2*GSD[1]]) # center\n",
    "\n",
    "corners_gps = proj2geo_transform(corners_proj)\n",
    "print('Target area north GPS: {}'.format(corners_gps[0,0]))\n",
    "print('Target area south GPS: {}'.format(corners_gps[1,0]))\n",
    "print('Target area east GPS: {}'.format(corners_gps[1,1]))\n",
    "print('Target area west GPS: {}'.format(corners_gps[0,1]))\n",
    "print('Target area center GPS: {}'.format(corners_gps[2]))\n",
    "print('Target area has width of {} meters'.format(abs(IMAGE_SIZE[1]*rows*GSD[1])))\n",
    "print('Target area has height of {} meters'.format(abs(IMAGE_SIZE[0]*cols*GSD[0])))"
   ]
  },
  {
   "cell_type": "code",
   "execution_count": null,
   "id": "10c54559",
   "metadata": {},
   "outputs": [],
   "source": []
  }
 ],
 "metadata": {
  "kernelspec": {
   "display_name": "Python 3 (ipykernel)",
   "language": "python",
   "name": "python3"
  },
  "language_info": {
   "codemirror_mode": {
    "name": "ipython",
    "version": 3
   },
   "file_extension": ".py",
   "mimetype": "text/x-python",
   "name": "python",
   "nbconvert_exporter": "python",
   "pygments_lexer": "ipython3",
   "version": "3.10.4"
  }
 },
 "nbformat": 4,
 "nbformat_minor": 5
}
