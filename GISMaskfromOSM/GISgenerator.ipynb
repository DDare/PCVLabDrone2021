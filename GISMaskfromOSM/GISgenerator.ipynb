{
 "cells": [
  {
   "cell_type": "code",
   "execution_count": 1,
   "metadata": {},
   "outputs": [
    {
     "name": "stderr",
     "output_type": "stream",
     "text": [
      "C:\\Users\\wei.909\\AppData\\Local\\Temp\\2\\ipykernel_11572\\2409756490.py:10: UserWarning: DelftStack\n",
      "  warnings.warn('DelftStack')\n"
     ]
    },
    {
     "data": {
      "text/plain": [
       "'1.1.2'"
      ]
     },
     "execution_count": 1,
     "metadata": {},
     "output_type": "execute_result"
    }
   ],
   "source": [
    "import osmnx as ox\n",
    "import matplotlib.pyplot as plt\n",
    "import cv2\n",
    "import numpy as np\n",
    "from PIL import Image\n",
    "Image.MAX_IMAGE_PIXELS = 933120000\n",
    "\n",
    "import warnings\n",
    "warnings.filterwarnings('ignore', '.*do not.*', )\n",
    "warnings.warn('DelftStack')\n",
    "warnings.warn('Do not show this message')\n",
    "\n",
    "%matplotlib inline\n",
    "ox.__version__"
   ]
  },
  {
   "cell_type": "code",
   "execution_count": 2,
   "metadata": {},
   "outputs": [],
   "source": [
    "def create_square_from_osm(addr, bbox, dist, tags={'building':True}, dpi=3000):\n",
    "    #bbox = ox.utils_geo.bbox_from_point(point, dist=dist)\n",
    "    gdf_building = ox.geometries.geometries_from_point(addr, tags=tags, dist=dist)\n",
    "\n",
    "    if not gdf_building.empty:\n",
    "        fig, ax = ox.plot_footprints(gdf_building, ax=None, bbox=bbox, filepath=f'./sat_label.png', bgcolor='#000000', dpi=dpi,\n",
    "                                     save=True, show=False, close=True)"
   ]
  },
  {
   "cell_type": "code",
   "execution_count": 3,
   "metadata": {},
   "outputs": [
    {
     "name": "stderr",
     "output_type": "stream",
     "text": [
      "C:\\Users\\wei.909\\AppData\\Local\\Continuum\\anaconda3\\envs\\GISgenerator2021\\lib\\site-packages\\geopandas\\plotting.py:74: DeprecationWarning: distutils Version classes are deprecated. Use packaging.version instead.\n",
      "  if mpl >= LooseVersion(\"3.4\") or (mpl > LooseVersion(\"3.3.2\") and \"+\" in mpl):\n",
      "C:\\Users\\wei.909\\AppData\\Local\\Continuum\\anaconda3\\envs\\GISgenerator2021\\lib\\site-packages\\setuptools\\_distutils\\version.py:351: DeprecationWarning: distutils Version classes are deprecated. Use packaging.version instead.\n",
      "  other = LooseVersion(other)\n"
     ]
    }
   ],
   "source": [
    "# set up GIS map bounday, center point and distance\n",
    "# Please refer to MapAnalysis for target map width and height\n",
    "north, south = 40.00050846915017, 39.99829017146142\n",
    "east, west = -83.0139618955573, -83.01911201346185\n",
    "satmap_center = (39.99939933, -83.01653695)\n",
    "dist = 300\n",
    "\n",
    "create_square_from_osm(addr=satmap_center, bbox=(north, south, east, west), dist=dist)"
   ]
  },
  {
   "cell_type": "code",
   "execution_count": 4,
   "metadata": {},
   "outputs": [
    {
     "data": {
      "text/plain": [
       "True"
      ]
     },
     "execution_count": 4,
     "metadata": {},
     "output_type": "execute_result"
    }
   ],
   "source": [
    "# Combine Satellite map with GIS building mask for visualization\n",
    "sat_img = cv2.imread('./sat.png')\n",
    "sat_label = cv2.imread('./sat_label.png')\n",
    "\n",
    "h_b, w_b = sat_img.shape[:2]\n",
    "sat_label = cv2.resize(sat_label, (w_b, h_b))\n",
    "save_img = 0.5*sat_img+0.5*sat_label\n",
    "cv2.imwrite('sat_mask.png', save_img)"
   ]
  },
  {
   "cell_type": "code",
   "execution_count": 5,
   "metadata": {},
   "outputs": [],
   "source": [
    "# the three channels\n",
    "white = np.array([0, 0, 0])\n",
    "\n",
    "sat_mask = np.ones((sat_label.shape[:2]), dtype=np.int32)\n",
    "sat_mask[(sat_label==white).all(axis=2)] = 0\n",
    "\n",
    "im = Image.fromarray(sat_mask)\n",
    "im.save(\"mask.png\")"
   ]
  },
  {
   "cell_type": "code",
   "execution_count": null,
   "metadata": {},
   "outputs": [],
   "source": []
  }
 ],
 "metadata": {
  "kernelspec": {
   "display_name": "Python 3 (ipykernel)",
   "language": "python",
   "name": "python3"
  },
  "language_info": {
   "codemirror_mode": {
    "name": "ipython",
    "version": 3
   },
   "file_extension": ".py",
   "mimetype": "text/x-python",
   "name": "python",
   "nbconvert_exporter": "python",
   "pygments_lexer": "ipython3",
   "version": "3.10.4"
  }
 },
 "nbformat": 4,
 "nbformat_minor": 4
}
